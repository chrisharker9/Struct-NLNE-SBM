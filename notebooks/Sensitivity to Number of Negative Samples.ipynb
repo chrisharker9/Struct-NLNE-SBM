{
 "cells": [
  {
   "cell_type": "code",
   "execution_count": null,
   "metadata": {},
   "outputs": [],
   "source": [
    "import numpy as np\n",
    "import networkx as nx\n",
    "import matplotlib.pyplot as plt\n",
    "\n",
    "from deepwalk.models import negative_sampling\n",
    "from deepwalk.walks import construct_co_occurrence_matrix"
   ]
  },
  {
   "cell_type": "code",
   "execution_count": null,
   "metadata": {},
   "outputs": [],
   "source": [
    "# Sample a graph from an SBM with K communities\n",
    "q = 0.1\n",
    "#p = q*np.exp(1.5\n",
    "p = 4*q\n",
    "\n",
    "G = nx.stochastic_block_model(sizes=[200,200,200],\n",
    "                             p=[[p,q,q],[q,p,q],[q,q,p]],\n",
    "                             seed=1234)\n",
    "A = nx.to_numpy_array(G)\n"
   ]
  },
  {
   "cell_type": "code",
   "execution_count": null,
   "metadata": {},
   "outputs": [],
   "source": [
    "# Construct co-occurrence matrix\n",
    "C = construct_co_occurrence_matrix(A, \n",
    "                                   n_walks=100, \n",
    "                                   walk_length=100,\n",
    "                                   window_size=3)"
   ]
  },
  {
   "cell_type": "code",
   "execution_count": null,
   "metadata": {
    "scrolled": false
   },
   "outputs": [],
   "source": [
    "# Run SGNS for various numbers of negative samples\n",
    "ns = [1/10, 1/6, 1/3, 1, 2, 3, 5, 10]\n",
    "for b in ns:\n",
    "    X, Y = negative_sampling(C=C, d=2, b=b, n_iter=1000, eta=.00001)\n",
    "    #X_norms = np.linalg.norm(X, axis=1)\n",
    "    #Xn = X/X_norms[:, np.newaxis]\n",
    "    plt.scatter(X[:200, 0], X[:200, 1], color='r')\n",
    "    plt.scatter(X[200:400, 0], X[200:400, 1], color='b')\n",
    "    plt.scatter(X[400:, 0], X[400:, 1], color='g')\n",
    "    plt.savefig(f'sgns_sensitivity_b{b}.png')\n",
    "    #plt.title(f'b={b}')\n",
    "    #plt.ylim([-1.5, 1.5])\n",
    "    #plt.xlim([-1.5, 1.5])\n",
    "    plt.show()"
   ]
  },
  {
   "cell_type": "code",
   "execution_count": null,
   "metadata": {},
   "outputs": [],
   "source": [
    "# Run b=10 again using a smaller step-size and more iterations so it converges.\n",
    "X, Y = negative_sampling(C=C, d=2, b=10, n_iter=10000, eta=.000001)\n",
    "#X_norms = np.linalg.norm(X, axis=1)\n",
    "#Xn = X/X_norms[:, np.newaxis]\n",
    "plt.scatter(X[:200, 0], X[:200, 1], color='r')\n",
    "plt.scatter(X[200:400, 0], X[200:400, 1], color='b')\n",
    "plt.scatter(X[400:, 0], X[400:, 1], color='g')\n",
    "plt.savefig(f'sgns_sensitivity_b{10}.png')\n",
    "#plt.title(f'b={b}')\n",
    "#plt.ylim([-1.5, 1.5])\n",
    "#plt.xlim([-1.5, 1.5])\n",
    "plt.show()"
   ]
  },
  {
   "cell_type": "code",
   "execution_count": null,
   "metadata": {},
   "outputs": [],
   "source": [
    "# Run b=10 again using a smaller step-size and more iterations so it converges.\n",
    "X, Y = negative_sampling(C=C, d=2, b=50, n_iter=10000, eta=.000001)\n",
    "#X_norms = np.linalg.norm(X, axis=1)\n",
    "#Xn = X/X_norms[:, np.newaxis]\n",
    "plt.scatter(X[:200, 0], X[:200, 1], color='r')\n",
    "plt.scatter(X[200:400, 0], X[200:400, 1], color='b')\n",
    "plt.scatter(X[400:, 0], X[400:, 1], color='g')\n",
    "#plt.savefig(f'sgns_sensitivity_b{b}.png')\n",
    "#plt.title(f'b={b}')\n",
    "#plt.ylim([-1.5, 1.5])\n",
    "#plt.xlim([-1.5, 1.5])\n",
    "plt.show()"
   ]
  },
  {
   "cell_type": "code",
   "execution_count": null,
   "metadata": {},
   "outputs": [],
   "source": []
  }
 ],
 "metadata": {
  "kernelspec": {
   "display_name": "env",
   "language": "python",
   "name": "env"
  },
  "language_info": {
   "codemirror_mode": {
    "name": "ipython",
    "version": 3
   },
   "file_extension": ".py",
   "mimetype": "text/x-python",
   "name": "python",
   "nbconvert_exporter": "python",
   "pygments_lexer": "ipython3",
   "version": "3.7.6"
  }
 },
 "nbformat": 4,
 "nbformat_minor": 4
}
